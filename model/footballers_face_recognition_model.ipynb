{
 "cells": [
  {
   "cell_type": "code",
   "execution_count": 2,
   "metadata": {},
   "outputs": [],
   "source": [
    "import numpy as np\n",
    "import pywt\n",
    "import cv2\n",
    "import os"
   ]
  },
  {
   "cell_type": "code",
   "execution_count": 3,
   "metadata": {},
   "outputs": [],
   "source": [
    "path_to_data = \"dataset/cropped/\""
   ]
  },
  {
   "cell_type": "code",
   "execution_count": 4,
   "metadata": {},
   "outputs": [
    {
     "data": {
      "text/plain": [
       "{'van dijk': ['dataset/cropped/van dijk/van dijk13.png',\n",
       "  'dataset/cropped/van dijk/van dijk21.png',\n",
       "  'dataset/cropped/van dijk/van dijk25.png',\n",
       "  'dataset/cropped/van dijk/van dijk31.png',\n",
       "  'dataset/cropped/van dijk/van dijk6.png',\n",
       "  'dataset/cropped/van dijk/van dijk7.png',\n",
       "  'dataset/cropped/van dijk/van dijk24.png',\n",
       "  'dataset/cropped/van dijk/van dijk5.png',\n",
       "  'dataset/cropped/van dijk/van dijk34.png',\n",
       "  'dataset/cropped/van dijk/van dijk1.png',\n",
       "  'dataset/cropped/van dijk/van dijk26.png',\n",
       "  'dataset/cropped/van dijk/van dijk8.png',\n",
       "  'dataset/cropped/van dijk/van dijk32.png',\n",
       "  'dataset/cropped/van dijk/van dijk36.png',\n",
       "  'dataset/cropped/van dijk/van dijk15.png',\n",
       "  'dataset/cropped/van dijk/van dijk14.png',\n",
       "  'dataset/cropped/van dijk/van dijk23.png',\n",
       "  'dataset/cropped/van dijk/van dijk39.png',\n",
       "  'dataset/cropped/van dijk/van dijk22.png',\n",
       "  'dataset/cropped/van dijk/van dijk4.png',\n",
       "  'dataset/cropped/van dijk/van dijk11.png',\n",
       "  'dataset/cropped/van dijk/van dijk33.png',\n",
       "  'dataset/cropped/van dijk/van dijk19.png',\n",
       "  'dataset/cropped/van dijk/van dijk28.png',\n",
       "  'dataset/cropped/van dijk/van dijk12.png',\n",
       "  'dataset/cropped/van dijk/van dijk27.png',\n",
       "  'dataset/cropped/van dijk/van dijk20.png',\n",
       "  'dataset/cropped/van dijk/van dijk29.png',\n",
       "  'dataset/cropped/van dijk/van dijk10.png',\n",
       "  'dataset/cropped/van dijk/van dijk37.png',\n",
       "  'dataset/cropped/van dijk/van dijk30.png',\n",
       "  'dataset/cropped/van dijk/van dijk9.png',\n",
       "  'dataset/cropped/van dijk/van dijk16.png',\n",
       "  'dataset/cropped/van dijk/van dijk17.png',\n",
       "  'dataset/cropped/van dijk/van dijk38.png',\n",
       "  'dataset/cropped/van dijk/van dijk35.png',\n",
       "  'dataset/cropped/van dijk/van dijk18.png',\n",
       "  'dataset/cropped/van dijk/van dijk3.png',\n",
       "  'dataset/cropped/van dijk/van dijk2.png'],\n",
       " 'ruben dias ': ['dataset/cropped/ruben dias /ruben dias 24.png',\n",
       "  'dataset/cropped/ruben dias /ruben dias 11.png',\n",
       "  'dataset/cropped/ruben dias /ruben dias 3.png',\n",
       "  'dataset/cropped/ruben dias /ruben dias 14.png',\n",
       "  'dataset/cropped/ruben dias /ruben dias 7.png',\n",
       "  'dataset/cropped/ruben dias /ruben dias 17.png',\n",
       "  'dataset/cropped/ruben dias /ruben dias 23.png',\n",
       "  'dataset/cropped/ruben dias /ruben dias 4.png',\n",
       "  'dataset/cropped/ruben dias /ruben dias 6.png',\n",
       "  'dataset/cropped/ruben dias /ruben dias 25.png',\n",
       "  'dataset/cropped/ruben dias /ruben dias 15.png',\n",
       "  'dataset/cropped/ruben dias /ruben dias 9.png',\n",
       "  'dataset/cropped/ruben dias /ruben dias 1.png',\n",
       "  'dataset/cropped/ruben dias /ruben dias 12.png',\n",
       "  'dataset/cropped/ruben dias /ruben dias 2.png',\n",
       "  'dataset/cropped/ruben dias /ruben dias 18.png',\n",
       "  'dataset/cropped/ruben dias /ruben dias 20.png',\n",
       "  'dataset/cropped/ruben dias /ruben dias 22.png',\n",
       "  'dataset/cropped/ruben dias /ruben dias 10.png',\n",
       "  'dataset/cropped/ruben dias /ruben dias 16.png',\n",
       "  'dataset/cropped/ruben dias /ruben dias 13.png',\n",
       "  'dataset/cropped/ruben dias /ruben dias 8.png',\n",
       "  'dataset/cropped/ruben dias /ruben dias 5.png',\n",
       "  'dataset/cropped/ruben dias /ruben dias 19.png',\n",
       "  'dataset/cropped/ruben dias /ruben dias 21.png'],\n",
       " 'gabriel jesus': ['dataset/cropped/gabriel jesus/gabriel jesus4.png',\n",
       "  'dataset/cropped/gabriel jesus/gabriel jesus17.png',\n",
       "  'dataset/cropped/gabriel jesus/gabriel jesus3.png',\n",
       "  'dataset/cropped/gabriel jesus/gabriel jesus11.png',\n",
       "  'dataset/cropped/gabriel jesus/gabriel jesus1.png',\n",
       "  'dataset/cropped/gabriel jesus/gabriel jesus21.png',\n",
       "  'dataset/cropped/gabriel jesus/gabriel jesus2.png',\n",
       "  'dataset/cropped/gabriel jesus/gabriel jesus20.png',\n",
       "  'dataset/cropped/gabriel jesus/gabriel jesus22.png',\n",
       "  'dataset/cropped/gabriel jesus/gabriel jesus9.png',\n",
       "  'dataset/cropped/gabriel jesus/gabriel jesus19.png',\n",
       "  'dataset/cropped/gabriel jesus/gabriel jesus23.png',\n",
       "  'dataset/cropped/gabriel jesus/gabriel jesus12.png',\n",
       "  'dataset/cropped/gabriel jesus/gabriel jesus7.png',\n",
       "  'dataset/cropped/gabriel jesus/gabriel jesus10.png',\n",
       "  'dataset/cropped/gabriel jesus/gabriel jesus18.png',\n",
       "  'dataset/cropped/gabriel jesus/gabriel jesus6.png',\n",
       "  'dataset/cropped/gabriel jesus/gabriel jesus13.png',\n",
       "  'dataset/cropped/gabriel jesus/gabriel jesus8.png',\n",
       "  'dataset/cropped/gabriel jesus/gabriel jesus14.png',\n",
       "  'dataset/cropped/gabriel jesus/gabriel jesus16.png',\n",
       "  'dataset/cropped/gabriel jesus/gabriel jesus5.png',\n",
       "  'dataset/cropped/gabriel jesus/gabriel jesus15.png'],\n",
       " 'mohamed salah': ['dataset/cropped/mohamed salah/mohamed salah24.png',\n",
       "  'dataset/cropped/mohamed salah/mohamed salah17.png',\n",
       "  'dataset/cropped/mohamed salah/mohamed salah12.png',\n",
       "  'dataset/cropped/mohamed salah/mohamed salah3.png',\n",
       "  'dataset/cropped/mohamed salah/mohamed salah14.png',\n",
       "  'dataset/cropped/mohamed salah/mohamed salah4.png',\n",
       "  'dataset/cropped/mohamed salah/mohamed salah1.png',\n",
       "  'dataset/cropped/mohamed salah/mohamed salah13.png',\n",
       "  'dataset/cropped/mohamed salah/mohamed salah8.png',\n",
       "  'dataset/cropped/mohamed salah/mohamed salah21.png',\n",
       "  'dataset/cropped/mohamed salah/mohamed salah18.png',\n",
       "  'dataset/cropped/mohamed salah/mohamed salah22.png',\n",
       "  'dataset/cropped/mohamed salah/mohamed salah15.png',\n",
       "  'dataset/cropped/mohamed salah/mohamed salah20.png',\n",
       "  'dataset/cropped/mohamed salah/mohamed salah25.png',\n",
       "  'dataset/cropped/mohamed salah/mohamed salah5.png',\n",
       "  'dataset/cropped/mohamed salah/mohamed salah6.png',\n",
       "  'dataset/cropped/mohamed salah/mohamed salah26.png',\n",
       "  'dataset/cropped/mohamed salah/mohamed salah11.png',\n",
       "  'dataset/cropped/mohamed salah/mohamed salah2.png',\n",
       "  'dataset/cropped/mohamed salah/mohamed salah7.png',\n",
       "  'dataset/cropped/mohamed salah/mohamed salah10.png',\n",
       "  'dataset/cropped/mohamed salah/mohamed salah16.png',\n",
       "  'dataset/cropped/mohamed salah/mohamed salah9.png',\n",
       "  'dataset/cropped/mohamed salah/mohamed salah19.png',\n",
       "  'dataset/cropped/mohamed salah/mohamed salah23.png'],\n",
       " 'erling haaland ': ['dataset/cropped/erling haaland /erling haaland 20.png',\n",
       "  'dataset/cropped/erling haaland /erling haaland 16.png',\n",
       "  'dataset/cropped/erling haaland /erling haaland 22.png',\n",
       "  'dataset/cropped/erling haaland /erling haaland 19.png',\n",
       "  'dataset/cropped/erling haaland /erling haaland 23.png',\n",
       "  'dataset/cropped/erling haaland /erling haaland 24.png',\n",
       "  'dataset/cropped/erling haaland /erling haaland 18.png',\n",
       "  'dataset/cropped/erling haaland /erling haaland 35.png',\n",
       "  'dataset/cropped/erling haaland /erling haaland 6.png',\n",
       "  'dataset/cropped/erling haaland /erling haaland 15.png',\n",
       "  'dataset/cropped/erling haaland /erling haaland 4.png',\n",
       "  'dataset/cropped/erling haaland /erling haaland 28.png',\n",
       "  'dataset/cropped/erling haaland /erling haaland 10.png',\n",
       "  'dataset/cropped/erling haaland /erling haaland 3.png',\n",
       "  'dataset/cropped/erling haaland /erling haaland 31.png',\n",
       "  'dataset/cropped/erling haaland /erling haaland 14.png',\n",
       "  'dataset/cropped/erling haaland /erling haaland 39.png',\n",
       "  'dataset/cropped/erling haaland /erling haaland 36.png',\n",
       "  'dataset/cropped/erling haaland /erling haaland 32.png',\n",
       "  'dataset/cropped/erling haaland /erling haaland 30.png',\n",
       "  'dataset/cropped/erling haaland /erling haaland 26.png',\n",
       "  'dataset/cropped/erling haaland /erling haaland 11.png',\n",
       "  'dataset/cropped/erling haaland /erling haaland 29.png',\n",
       "  'dataset/cropped/erling haaland /erling haaland 37.png',\n",
       "  'dataset/cropped/erling haaland /erling haaland 21.png',\n",
       "  'dataset/cropped/erling haaland /erling haaland 8.png',\n",
       "  'dataset/cropped/erling haaland /erling haaland 17.png',\n",
       "  'dataset/cropped/erling haaland /erling haaland 38.png',\n",
       "  'dataset/cropped/erling haaland /erling haaland 5.png',\n",
       "  'dataset/cropped/erling haaland /erling haaland 34.png',\n",
       "  'dataset/cropped/erling haaland /erling haaland 7.png',\n",
       "  'dataset/cropped/erling haaland /erling haaland 13.png',\n",
       "  'dataset/cropped/erling haaland /erling haaland 9.png',\n",
       "  'dataset/cropped/erling haaland /erling haaland 12.png',\n",
       "  'dataset/cropped/erling haaland /erling haaland 2.png',\n",
       "  'dataset/cropped/erling haaland /erling haaland 33.png',\n",
       "  'dataset/cropped/erling haaland /erling haaland 25.png',\n",
       "  'dataset/cropped/erling haaland /erling haaland 27.png',\n",
       "  'dataset/cropped/erling haaland /erling haaland 1.png']}"
      ]
     },
     "execution_count": 4,
     "metadata": {},
     "output_type": "execute_result"
    }
   ],
   "source": [
    "footballers_file_names_dict = {}\n",
    "for img_dir in os.scandir(path_to_data):\n",
    "    footballers_name = img_dir.path.split('/')[-1]\n",
    "    file_list = []\n",
    "    for entry in os.scandir(img_dir):\n",
    "        file_list.append(entry.path)\n",
    "    footballers_file_names_dict[footballers_name] = file_list\n",
    "footballers_file_names_dict"
   ]
  },
  {
   "cell_type": "code",
   "execution_count": 5,
   "metadata": {},
   "outputs": [
    {
     "data": {
      "text/plain": [
       "{'van dijk': 0,\n",
       " 'ruben dias ': 1,\n",
       " 'gabriel jesus': 2,\n",
       " 'mohamed salah': 3,\n",
       " 'erling haaland ': 4}"
      ]
     },
     "execution_count": 5,
     "metadata": {},
     "output_type": "execute_result"
    }
   ],
   "source": [
    "footballers_names_dict = {}\n",
    "count = 0\n",
    "\n",
    "for entry in os.scandir(path_to_data):\n",
    "    celebrity_name = entry.path.split('/')[-1]\n",
    "    footballers_names_dict[celebrity_name] = count\n",
    "    count += 1\n",
    "footballers_names_dict"
   ]
  },
  {
   "cell_type": "code",
   "execution_count": 6,
   "metadata": {},
   "outputs": [],
   "source": [
    "def w2d(img, mode='haar', level=1):\n",
    "    imArray = img\n",
    "    #Datatype conversions\n",
    "    #convert to grayscale\n",
    "    imArray = cv2.cvtColor( imArray,cv2.COLOR_RGB2GRAY )\n",
    "    #convert to float\n",
    "    imArray =  np.float32(imArray)   \n",
    "    imArray /= 255;\n",
    "    # compute coefficients \n",
    "    coeffs=pywt.wavedec2(imArray, mode, level=level)\n",
    "\n",
    "    #Process Coefficients\n",
    "    coeffs_H=list(coeffs)  \n",
    "    coeffs_H[0] *= 0;  \n",
    "\n",
    "    # reconstruction\n",
    "    imArray_H=pywt.waverec2(coeffs_H, mode);\n",
    "    imArray_H *= 255;\n",
    "    imArray_H =  np.uint8(imArray_H)\n",
    "\n",
    "    return imArray_H"
   ]
  },
  {
   "cell_type": "code",
   "execution_count": 32,
   "metadata": {},
   "outputs": [],
   "source": [
    "X, y = [], []\n",
    "for footballer_name, training_files in footballers_file_names_dict.items():\n",
    "    for training_image in training_files:\n",
    "        img = cv2.imread(training_image)\n",
    "        scalled_raw_img = cv2.resize(img, (32, 32))\n",
    "        img_har = w2d(img,'db1',5)\n",
    "        scalled_img_har = cv2.resize(img_har, (32, 32))\n",
    "        combined_img = np.vstack((scalled_raw_img.reshape(32 * 32 * 3, 1), scalled_img_har.reshape(32 * 32, 1)))\n",
    "        X.append(combined_img)\n",
    "        y.append(footballers_names_dict[footballer_name])"
   ]
  },
  {
   "cell_type": "code",
   "execution_count": 8,
   "metadata": {},
   "outputs": [
    {
     "data": {
      "text/plain": [
       "4096"
      ]
     },
     "execution_count": 8,
     "metadata": {},
     "output_type": "execute_result"
    }
   ],
   "source": [
    "len(X[0])"
   ]
  },
  {
   "cell_type": "code",
   "execution_count": 9,
   "metadata": {},
   "outputs": [
    {
     "data": {
      "text/plain": [
       "array([[158],\n",
       "       [121],\n",
       "       [147],\n",
       "       ...,\n",
       "       [247],\n",
       "       [ 23],\n",
       "       [253]], dtype=uint8)"
      ]
     },
     "execution_count": 9,
     "metadata": {},
     "output_type": "execute_result"
    }
   ],
   "source": [
    "X[0]"
   ]
  },
  {
   "cell_type": "code",
   "execution_count": 10,
   "metadata": {},
   "outputs": [
    {
     "data": {
      "text/plain": [
       "0"
      ]
     },
     "execution_count": 10,
     "metadata": {},
     "output_type": "execute_result"
    }
   ],
   "source": [
    "y[0]"
   ]
  },
  {
   "cell_type": "code",
   "execution_count": 11,
   "metadata": {},
   "outputs": [
    {
     "data": {
      "text/plain": [
       "(152, 4096)"
      ]
     },
     "execution_count": 11,
     "metadata": {},
     "output_type": "execute_result"
    }
   ],
   "source": [
    "X = np.array(X).reshape(len(X),4096).astype(float)\n",
    "X.shape"
   ]
  },
  {
   "cell_type": "markdown",
   "metadata": {},
   "source": [
    "# Training Model"
   ]
  },
  {
   "cell_type": "code",
   "execution_count": 12,
   "metadata": {},
   "outputs": [],
   "source": [
    "from sklearn.svm import SVC\n",
    "from sklearn.preprocessing import StandardScaler\n",
    "from sklearn.model_selection import train_test_split\n",
    "from sklearn.pipeline import Pipeline\n",
    "from sklearn.metrics import classification_report\n",
    "from sklearn.metrics import confusion_matrix\n",
    "from sklearn import svm\n",
    "from sklearn.ensemble import RandomForestClassifier\n",
    "from sklearn.linear_model import LogisticRegression\n",
    "from sklearn.pipeline import make_pipeline\n",
    "from sklearn.model_selection import GridSearchCV\n",
    "import matplotlib.pyplot as plt"
   ]
  },
  {
   "cell_type": "code",
   "execution_count": 13,
   "metadata": {},
   "outputs": [
    {
     "data": {
      "text/plain": [
       "0.8421052631578947"
      ]
     },
     "execution_count": 13,
     "metadata": {},
     "output_type": "execute_result"
    }
   ],
   "source": [
    "X_train, X_test, y_train, y_test = train_test_split(X, y, random_state=42)\n",
    "\n",
    "pipe = Pipeline([('scaler', StandardScaler()), ('svc', SVC(kernel = 'rbf', C = 10))])\n",
    "pipe.fit(X_train, y_train)\n",
    "pipe.score(X_test, y_test)"
   ]
  },
  {
   "cell_type": "code",
   "execution_count": 14,
   "metadata": {},
   "outputs": [],
   "source": [
    "model_params = {\n",
    "    'svm': {\n",
    "        'model': svm.SVC(gamma='auto',probability=True),\n",
    "        'params' : {\n",
    "            'svc__C': [1,10,100,1000],\n",
    "            'svc__kernel': ['rbf','linear']\n",
    "        }  \n",
    "    },\n",
    "    'random_forest': {\n",
    "        'model': RandomForestClassifier(),\n",
    "        'params' : {\n",
    "            'randomforestclassifier__n_estimators': [1,5,10]\n",
    "        }\n",
    "    },\n",
    "    'logistic_regression' : {\n",
    "        'model': LogisticRegression(solver='liblinear',multi_class='auto'),\n",
    "        'params': {\n",
    "            'logisticregression__C': [1,5,10]\n",
    "        }\n",
    "    }\n",
    "}"
   ]
  },
  {
   "cell_type": "code",
   "execution_count": 15,
   "metadata": {},
   "outputs": [
    {
     "data": {
      "text/html": [
       "<div>\n",
       "<style scoped>\n",
       "    .dataframe tbody tr th:only-of-type {\n",
       "        vertical-align: middle;\n",
       "    }\n",
       "\n",
       "    .dataframe tbody tr th {\n",
       "        vertical-align: top;\n",
       "    }\n",
       "\n",
       "    .dataframe thead th {\n",
       "        text-align: right;\n",
       "    }\n",
       "</style>\n",
       "<table border=\"1\" class=\"dataframe\">\n",
       "  <thead>\n",
       "    <tr style=\"text-align: right;\">\n",
       "      <th></th>\n",
       "      <th>model</th>\n",
       "      <th>best_score</th>\n",
       "      <th>best_params</th>\n",
       "    </tr>\n",
       "  </thead>\n",
       "  <tbody>\n",
       "    <tr>\n",
       "      <th>0</th>\n",
       "      <td>svm</td>\n",
       "      <td>0.797233</td>\n",
       "      <td>{'svc__C': 1, 'svc__kernel': 'linear'}</td>\n",
       "    </tr>\n",
       "    <tr>\n",
       "      <th>1</th>\n",
       "      <td>random_forest</td>\n",
       "      <td>0.605534</td>\n",
       "      <td>{'randomforestclassifier__n_estimators': 10}</td>\n",
       "    </tr>\n",
       "    <tr>\n",
       "      <th>2</th>\n",
       "      <td>logistic_regression</td>\n",
       "      <td>0.815415</td>\n",
       "      <td>{'logisticregression__C': 1}</td>\n",
       "    </tr>\n",
       "  </tbody>\n",
       "</table>\n",
       "</div>"
      ],
      "text/plain": [
       "                 model  best_score  \\\n",
       "0                  svm    0.797233   \n",
       "1        random_forest    0.605534   \n",
       "2  logistic_regression    0.815415   \n",
       "\n",
       "                                    best_params  \n",
       "0        {'svc__C': 1, 'svc__kernel': 'linear'}  \n",
       "1  {'randomforestclassifier__n_estimators': 10}  \n",
       "2                  {'logisticregression__C': 1}  "
      ]
     },
     "execution_count": 15,
     "metadata": {},
     "output_type": "execute_result"
    }
   ],
   "source": [
    "scores = []\n",
    "best_estimators = {}\n",
    "import pandas as pd\n",
    "for algo, mp in model_params.items():\n",
    "    pipe = make_pipeline(StandardScaler(), mp['model'])\n",
    "    clf =  GridSearchCV(pipe, mp['params'], cv=5, return_train_score=False)\n",
    "    clf.fit(X_train, y_train)\n",
    "    scores.append({\n",
    "        'model': algo,\n",
    "        'best_score': clf.best_score_,\n",
    "        'best_params': clf.best_params_\n",
    "    })\n",
    "    best_estimators[algo] = clf.best_estimator_\n",
    "    \n",
    "df = pd.DataFrame(scores,columns=['model','best_score','best_params'])\n",
    "df"
   ]
  },
  {
   "cell_type": "code",
   "execution_count": 16,
   "metadata": {},
   "outputs": [
    {
     "data": {
      "text/plain": [
       "0.868421052631579"
      ]
     },
     "execution_count": 16,
     "metadata": {},
     "output_type": "execute_result"
    }
   ],
   "source": [
    "best_estimators['svm'].score(X_test,y_test)"
   ]
  },
  {
   "cell_type": "code",
   "execution_count": 17,
   "metadata": {},
   "outputs": [
    {
     "data": {
      "text/plain": [
       "0.5"
      ]
     },
     "execution_count": 17,
     "metadata": {},
     "output_type": "execute_result"
    }
   ],
   "source": [
    "best_estimators['random_forest'].score(X_test,y_test)"
   ]
  },
  {
   "cell_type": "code",
   "execution_count": 18,
   "metadata": {},
   "outputs": [
    {
     "data": {
      "text/plain": [
       "0.8421052631578947"
      ]
     },
     "execution_count": 18,
     "metadata": {},
     "output_type": "execute_result"
    }
   ],
   "source": [
    "best_estimators['logistic_regression'].score(X_test,y_test)"
   ]
  },
  {
   "cell_type": "code",
   "execution_count": 19,
   "metadata": {},
   "outputs": [],
   "source": [
    "best_clf = best_estimators['svm']"
   ]
  },
  {
   "cell_type": "code",
   "execution_count": 20,
   "metadata": {},
   "outputs": [
    {
     "data": {
      "text/plain": [
       "array([[11,  0,  0,  0,  1],\n",
       "       [ 1,  3,  0,  0,  0],\n",
       "       [ 0,  0,  8,  0,  0],\n",
       "       [ 0,  0,  1,  2,  0],\n",
       "       [ 2,  0,  0,  0,  9]])"
      ]
     },
     "execution_count": 20,
     "metadata": {},
     "output_type": "execute_result"
    }
   ],
   "source": [
    "cm = confusion_matrix(y_test, best_clf.predict(X_test))\n",
    "cm"
   ]
  },
  {
   "cell_type": "code",
   "execution_count": 21,
   "metadata": {},
   "outputs": [
    {
     "data": {
      "text/plain": [
       "Text(95.72222222222221, 0.5, 'Truth')"
      ]
     },
     "execution_count": 21,
     "metadata": {},
     "output_type": "execute_result"
    },
    {
     "data": {
      "image/png": "[encoded data removed]",
      "text/plain": [
       "<Figure size 1000x700 with 2 Axes>"
      ]
     },
     "metadata": {},
     "output_type": "display_data"
    }
   ],
   "source": [
    "import seaborn as sn\n",
    "plt.figure(figsize = (10,7))\n",
    "sn.heatmap(cm, annot=True)\n",
    "plt.xlabel('Predicted')\n",
    "plt.ylabel('Truth')"
   ]
  },
  {
   "cell_type": "markdown",
   "metadata": {},
   "source": [
    "# Saving Model"
   ]
  },
  {
   "cell_type": "code",
   "execution_count": 22,
   "metadata": {},
   "outputs": [
    {
     "data": {
      "text/plain": [
       "['saved_model.pkl']"
      ]
     },
     "execution_count": 22,
     "metadata": {},
     "output_type": "execute_result"
    }
   ],
   "source": [
    "import joblib\n",
    "joblib.dump(best_clf, 'saved_model.pkl') "
   ]
  },
  {
   "cell_type": "markdown",
   "metadata": {},
   "source": [
    "# Save footballers dictonary"
   ]
  },
  {
   "cell_type": "code",
   "execution_count": 23,
   "metadata": {},
   "outputs": [
    {
     "data": {
      "text/plain": [
       "{'van dijk': 0,\n",
       " 'ruben dias ': 1,\n",
       " 'gabriel jesus': 2,\n",
       " 'mohamed salah': 3,\n",
       " 'erling haaland ': 4}"
      ]
     },
     "execution_count": 23,
     "metadata": {},
     "output_type": "execute_result"
    }
   ],
   "source": [
    "footballers_names_dict"
   ]
  },
  {
   "cell_type": "code",
   "execution_count": 24,
   "metadata": {},
   "outputs": [],
   "source": [
    "import json\n",
    "with open(\"f_names_dictionary.json\",\"w\") as f:\n",
    "    f.write(json.dumps(footballers_names_dict))"
   ]
  },
  {
   "cell_type": "code",
   "execution_count": null,
   "metadata": {},
   "outputs": [],
   "source": []
  }
 ],
 "metadata": {
  "kernelspec": {
   "display_name": "Python 3.10.5 64-bit",
   "language": "python",
   "name": "python3"
  },
  "language_info": {
   "codemirror_mode": {
    "name": "ipython",
    "version": 3
   },
   "file_extension": ".py",
   "mimetype": "text/x-python",
   "name": "python",
   "nbconvert_exporter": "python",
   "pygments_lexer": "ipython3",
   "version": "3.10.5"
  },
  "orig_nbformat": 4,
  "vscode": {
   "interpreter": {
    "hash": "e7370f93d1d0cde622a1f8e1c04877d8463912d04d973331ad4851f04de6915a"
   }
  }
 },
 "nbformat": 4,
 "nbformat_minor": 2
}
